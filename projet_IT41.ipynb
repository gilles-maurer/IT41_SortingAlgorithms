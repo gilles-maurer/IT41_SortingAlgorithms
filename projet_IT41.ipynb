{
 "cells": [
  {
   "cell_type": "markdown",
   "source": [
    "# IT41 Project"
   ],
   "metadata": {
    "collapsed": false
   }
  },
  {
   "cell_type": "markdown",
   "metadata": {},
   "source": [
    "## Introduction :\n",
    "\n",
    "- use of sorting algorithms\n",
    "- issues with sorting algorithms\n",
    "    - time complexity\n",
    "    - space complexity\n",
    "    - algo stable \n",
    "\n",
    "##### Sorting algorithms :\n",
    "- Bogosort\n",
    "- Bubble sort\n",
    "- Insertion sort\n",
    "- Selection sort\n",
    "- Merge sort\n",
    "- Quick sort\n"
   ]
  },
  {
   "cell_type": "markdown",
   "metadata": {},
   "source": [
    "### Bogosort :"
   ]
  },
  {
   "cell_type": "markdown",
   "metadata": {},
   "source": [
    "### Bubble sort :"
   ]
  },
  {
   "cell_type": "code",
   "execution_count": 34,
   "metadata": {
    "ExecuteTime": {
     "start_time": "2023-04-14T21:01:30.787631Z",
     "end_time": "2023-04-14T21:01:30.799445Z"
    }
   },
   "outputs": [],
   "source": [
    "def bubble_sort(arr):\n",
    "    n = len(arr)\n",
    "    for i in range(n):\n",
    "        for j in range(n - i - 1):\n",
    "            if arr[j] > arr[j + 1]:\n",
    "                arr[j], arr[j + 1] = arr[j + 1], arr[j]\n",
    "    return arr"
   ]
  },
  {
   "cell_type": "markdown",
   "metadata": {},
   "source": [
    "### Insertion sort :"
   ]
  },
  {
   "cell_type": "code",
   "execution_count": 35,
   "metadata": {
    "ExecuteTime": {
     "start_time": "2023-04-14T21:01:35.248729Z",
     "end_time": "2023-04-14T21:01:35.254734Z"
    }
   },
   "outputs": [],
   "source": [
    "def insertion_sort(arr):\n",
    "    n = len(arr)\n",
    "    for i in range(1, n):\n",
    "        current = arr[i]\n",
    "        j = i - 1\n",
    "        while j >= 0 and current < arr[j]:\n",
    "            arr[j + 1] = arr[j]\n",
    "            j -= 1\n",
    "        arr[j + 1] = current\n",
    "    return arr"
   ]
  },
  {
   "cell_type": "markdown",
   "metadata": {},
   "source": [
    "### Selection sort :"
   ]
  },
  {
   "cell_type": "code",
   "execution_count": 36,
   "metadata": {
    "ExecuteTime": {
     "start_time": "2023-04-14T21:01:35.818091Z",
     "end_time": "2023-04-14T21:01:35.835647Z"
    }
   },
   "outputs": [],
   "source": [
    "def selection_sort(arr):\n",
    "    n = len(arr)\n",
    "    for i in range(n):\n",
    "        min_index = i\n",
    "        for j in range(i + 1, n):\n",
    "            if arr[min_index] > arr[j]:\n",
    "                min_index = j\n",
    "        arr[i], arr[min_index] = arr[min_index], arr[i]\n",
    "    return arr"
   ]
  },
  {
   "cell_type": "markdown",
   "metadata": {},
   "source": [
    "### Merge sort :"
   ]
  },
  {
   "cell_type": "code",
   "execution_count": 39,
   "outputs": [],
   "source": [
    "def merge_sort(arr):\n",
    "    if len(arr) <= 1:\n",
    "        return arr\n",
    "    else:\n",
    "        middle = len(arr) // 2\n",
    "        left = merge_sort(arr[:middle])\n",
    "        right = merge_sort(arr[middle:])\n",
    "\n",
    "        arr = merge(left, right)\n",
    "        return arr\n",
    "\n",
    "\n",
    "def merge(left, right):\n",
    "    result = []\n",
    "    while len(left) > 0 and len(right) > 0:\n",
    "        if left[0] <= right[0]:\n",
    "            result.append(left[0])\n",
    "            left = left[1:]\n",
    "        else:\n",
    "            result.append(right[0])\n",
    "            right = right[1:]\n",
    "    if len(left) > 0:\n",
    "        result += left\n",
    "    if len(right) > 0:\n",
    "        result += right\n",
    "    return result"
   ],
   "metadata": {
    "collapsed": false,
    "ExecuteTime": {
     "start_time": "2023-04-14T21:06:15.409097Z",
     "end_time": "2023-04-14T21:06:15.427443Z"
    }
   }
  },
  {
   "cell_type": "markdown",
   "metadata": {},
   "source": [
    "### Quick sort :"
   ]
  }
 ],
 "metadata": {
  "kernelspec": {
   "display_name": "Python 3 (ipykernel)",
   "language": "python",
   "name": "python3"
  },
  "language_info": {
   "codemirror_mode": {
    "name": "ipython",
    "version": 3
   },
   "file_extension": ".py",
   "mimetype": "text/x-python",
   "name": "python",
   "nbconvert_exporter": "python",
   "pygments_lexer": "ipython3",
   "version": "3.10.4"
  }
 },
 "nbformat": 4,
 "nbformat_minor": 2
}
