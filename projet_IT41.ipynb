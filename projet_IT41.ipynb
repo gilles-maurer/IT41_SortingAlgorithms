{
 "cells": [
  {
   "attachments": {},
   "cell_type": "markdown",
   "metadata": {},
   "source": [
    "Projet IT41"
   ]
  },
  {
   "attachments": {},
   "cell_type": "markdown",
   "metadata": {},
   "source": [
    "Introduction : \n",
    "\n",
    "- use of sorting algorithms \n",
    "- issues with sorting algorithms\n",
    "    - time complexity\n",
    "    - space complexity\n",
    "    - algo stable \n",
    "\n",
    "Sorting algorithms :\n",
    "    - Bogosort\n",
    "    - Bubble sort\n",
    "    - Insertion sort\n",
    "    - Selection sort\n",
    "    - Merge sort\n",
    "    - Quick sort\n"
   ]
  },
  {
   "attachments": {},
   "cell_type": "markdown",
   "metadata": {},
   "source": [
    "Bogosort : "
   ]
  },
  {
   "attachments": {},
   "cell_type": "markdown",
   "metadata": {},
   "source": [
    "Bubble sort :"
   ]
  },
  {
   "attachments": {},
   "cell_type": "markdown",
   "metadata": {},
   "source": [
    "Insertion sort :"
   ]
  },
  {
   "attachments": {},
   "cell_type": "markdown",
   "metadata": {},
   "source": [
    "Selection sort :"
   ]
  },
  {
   "attachments": {},
   "cell_type": "markdown",
   "metadata": {},
   "source": [
    "Merge sort :"
   ]
  },
  {
   "attachments": {},
   "cell_type": "markdown",
   "metadata": {},
   "source": [
    "Quick sort :"
   ]
  }
 ],
 "metadata": {
  "language_info": {
   "name": "python"
  },
  "orig_nbformat": 4
 },
 "nbformat": 4,
 "nbformat_minor": 2
}
