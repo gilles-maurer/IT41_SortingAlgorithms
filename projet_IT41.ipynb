{
 "cells": [
  {
   "attachments": {},
   "cell_type": "markdown",
   "metadata": {},
   "source": [
    "# IT41 Project"
   ]
  },
  {
   "attachments": {},
   "cell_type": "markdown",
   "metadata": {},
   "source": [
    "## Introduction\n",
    "\n",
    "In this project, our goal is to learn about different sorting algorithms and how they work. Sorting algorithms are very important in computer science because they help us organize data in many ways, like in databases or search engines. By looking at different algorithms, we can learn about their strengths and weaknesses. This helps us choose the best algorithm for a specific task.\n",
    "\n",
    "For this project, we choose to study 6 different sorting algorithms : \n",
    "- Bogosort\n",
    "- Bubble sort\n",
    "- Insertion sort\n",
    "- Selection sort\n",
    "- Merge sort\n",
    "- Quick sort\n",
    "\n",
    "For each algorithm, we will explain what it is used for and how it works. Then, we will study its complexity. After that, we will write code for the algorithm and see how it performs with tests.\n",
    "By the end of this project, we hope to understand these sorting algorithms better and how they can be used in real-life situations."
   ]
  },
  {
   "attachments": {},
   "cell_type": "markdown",
   "metadata": {},
   "source": [
    "Here there are some useful functions that we will use later in the project to test the algorithms."
   ]
  },
  {
   "cell_type": "code",
   "execution_count": 1,
   "metadata": {
    "ExecuteTime": {
     "end_time": "2023-05-02T18:17:51.658184900Z",
     "start_time": "2023-05-02T18:17:51.491589Z"
    }
   },
   "outputs": [
    {
     "ename": "ModuleNotFoundError",
     "evalue": "No module named 'matplotlib'",
     "output_type": "error",
     "traceback": [
      "\u001b[1;31m---------------------------------------------------------------------------\u001b[0m",
      "\u001b[1;31mModuleNotFoundError\u001b[0m                       Traceback (most recent call last)",
      "Cell \u001b[1;32mIn[1], line 1\u001b[0m\n\u001b[1;32m----> 1\u001b[0m \u001b[39mimport\u001b[39;00m \u001b[39mtime\u001b[39;00m\u001b[39m,\u001b[39m \u001b[39mrandom\u001b[39;00m\u001b[39m,\u001b[39m \u001b[39mmatplotlib\u001b[39;00m\u001b[39m.\u001b[39;00m\u001b[39mpyplot\u001b[39;00m \u001b[39mas\u001b[39;00m \u001b[39mplt\u001b[39;00m\n\u001b[0;32m      3\u001b[0m MAX_TEST \u001b[39m=\u001b[39m \u001b[39m5000\u001b[39m\n\u001b[0;32m      4\u001b[0m x_size \u001b[39m=\u001b[39m []\n",
      "\u001b[1;31mModuleNotFoundError\u001b[0m: No module named 'matplotlib'"
     ]
    }
   ],
   "source": [
    "import time, random, matplotlib.pyplot as plt\n",
    "\n",
    "MAX_TEST = 5000\n",
    "x_size = []\n",
    "test_arr = [[] for _ in range(MAX_TEST)]\n",
    "\n",
    "algo_dict = {\n",
    "    'bubble_sort': {'title': 'Bubble sort', 'color': 'g', 'y_time': []},\n",
    "    'insertion_sort': {'title': 'Insertion sort', 'color': 'y', 'y_time': []},\n",
    "    'selection_sort': {'title': 'Selection sort', 'color': 'c', 'y_time': []},\n",
    "    'merge_sort': {'title': 'Merge sort', 'color': 'm', 'y_time': []},\n",
    "    'quick_sort': {'title': 'Quick sort', 'color': 'r', 'y_time': []},\n",
    "}\n",
    "\n",
    "\n",
    "def generate_test_data():\n",
    "    global x_size, test_arr\n",
    "    _j = 0\n",
    "    for _i in range(1, MAX_TEST + 1, MAX_TEST // (MAX_TEST // 50)):\n",
    "        test_arr[_j] = random.sample(range(-10000, 90000), _i)\n",
    "        x_size.append(_i)\n",
    "        _j += 1\n",
    "\n",
    "\n",
    "def testing_algorithm(algo, arr):\n",
    "    start = time.time()\n",
    "    algo(arr)\n",
    "    end = time.time()\n",
    "    return end - start\n",
    "\n",
    "\n",
    "def plot_time(algo):\n",
    "    global algo_dict, test_arr\n",
    "    algo_info = algo_dict.get(algo.__name__, {'title': 'Unknown algorithm', 'color': 'k', 'y_time': []})\n",
    "    y_time = []\n",
    "    for i in range(MAX_TEST // 50):\n",
    "        y_time.append(testing_algorithm(algo, test_arr[i]))\n",
    "    algo_info['y_time'] = y_time\n",
    "    algo_dict[algo.__name__] = algo_info\n",
    "    plt.title(algo_info['title'] + ' execution')\n",
    "    plt.xlabel('Size of the array')\n",
    "    plt.ylabel('Time of execution (seconds)')\n",
    "    plt.plot(x_size, y_time, algo_info['color'], label=algo.__name__)\n",
    "    plt.show()\n",
    "\n",
    "\n",
    "generate_test_data()"
   ]
  },
  {
   "cell_type": "markdown",
   "metadata": {},
   "source": [
    "## Bogosort:"
   ]
  },
  {
   "attachments": {},
   "cell_type": "markdown",
   "metadata": {
    "collapsed": false
   },
   "source": [
    "Bogosort is a sorting algorithm mainly used for educational purposes. The prince is that you randomly shuffle the list until it is sorted.\n",
    "\n",
    "The basic idea of bogosort is to:\n",
    "\n",
    "    Check if the array is sorted\n",
    "    If not, shuffle it randomly\n",
    "    Otherwise returne the array\n",
    "\n",
    "The advantage of bogosort is that it can be useful for teaching the basics of sorting algorithms, clearly showing the differences in performance between different algorithms.\n",
    "\n",
    "The disadvantage of bogosort is that, because of its unpredictable nature, it is extremely inefficient. Bogosort is often considered as a joke in the computing community."
   ]
  },
  {
   "cell_type": "markdown",
   "metadata": {
    "collapsed": false
   },
   "source": [
    "### Complexity:"
   ]
  },
  {
   "cell_type": "markdown",
   "metadata": {
    "collapsed": false
   },
   "source": [
    "<img src=\"img/bogo.png\" width=\"600\"/>"
   ]
  },
  {
   "cell_type": "markdown",
   "metadata": {
    "collapsed": false
   },
   "source": [
    "### Implementation:"
   ]
  },
  {
   "cell_type": "code",
   "execution_count": null,
   "metadata": {
    "ExecuteTime": {
     "end_time": "2023-05-02T18:17:51.659185900Z",
     "start_time": "2023-05-02T18:17:51.605619600Z"
    },
    "collapsed": false
   },
   "outputs": [],
   "source": [
    "# We check if the array is sorted\n",
    "def is_sorted(arr):\n",
    "    for i in range(len(arr) - 1):\n",
    "        if arr[i] > arr[i+1]:\n",
    "            return False\n",
    "    return True\n",
    "\n",
    "# Bubble sort\n",
    "def BogoSort(arr):\n",
    "    while not is_sorted(arr):\n",
    "        random.shuffle(arr) # We shuffle the array until it is sorted\n",
    "    return arr\n",
    "\n",
    "# We will not test bogosort because its execution time is incomparably longer than any of the other algorithms (at least on large arrays)"
   ]
  },
  {
   "cell_type": "markdown",
   "metadata": {},
   "source": [
    "## Bubble sort:"
   ]
  },
  {
   "attachments": {},
   "cell_type": "markdown",
   "metadata": {},
   "source": [
    "Bubble sort is a simple sorting algorithm that works by repeatedly swapping adjacent elements that are in the wrong order. The algorithm gets its name from the way that smaller elements \"bubble\" to the top of the list during each pass through the list.\n",
    "\n",
    "The basic idea of bubble sort is to:\n",
    "\n",
    "    Start at the beginning of the list and compare each pair of adjacent elements.\n",
    "    If the elements are in the wrong order, swap them.\n",
    "    Repeat this process for each pair of adjacent elements in the list.\n",
    "    Continue making passes through the list until no more swaps are necessary.\n",
    "\n",
    "The advantages of bubble sort are its simplicity and ease of implementation. It also requires little memory and is stable, meaning that the order of equal elements is not changed by the algorithm.\n",
    "\n",
    "The disadvantages of bubble sort are that it is slow for large lists and is generally less efficient than other sorting algorithms. It also does not adapt well to partially sorted lists, as it still requires the same number of passes through the list to complete."
   ]
  },
  {
   "cell_type": "markdown",
   "metadata": {
    "collapsed": false
   },
   "source": [
    "### Complexity:"
   ]
  },
  {
   "cell_type": "markdown",
   "metadata": {
    "collapsed": false
   },
   "source": [
    "<img src=\"img/bubble.png\" width=\"600\"/>"
   ]
  },
  {
   "cell_type": "markdown",
   "metadata": {
    "collapsed": false
   },
   "source": [
    "### Implementation:"
   ]
  },
  {
   "cell_type": "code",
   "execution_count": null,
   "metadata": {
    "ExecuteTime": {
     "end_time": "2023-05-02T18:18:29.702306Z",
     "start_time": "2023-05-02T18:17:51.623161400Z"
    }
   },
   "outputs": [],
   "source": [
    "def bubble_sort(arr):\n",
    "    n = len(arr)\n",
    "    for i in range(n):\n",
    "        for j in range(n - i - 1):\n",
    "            if arr[j] > arr[j + 1]:\n",
    "                arr[j], arr[j + 1] = arr[j + 1], arr[j]\n",
    "    return arr\n",
    "\n",
    "\n",
    "plot_time(bubble_sort)"
   ]
  },
  {
   "cell_type": "markdown",
   "metadata": {},
   "source": [
    "## Insertion sort:"
   ]
  },
  {
   "attachments": {},
   "cell_type": "markdown",
   "metadata": {},
   "source": [
    "Insertion sort is a simple and efficient sorting algorithm that can be used to sort small to medium-sized lists. The algorithm gets its name from the fact that it sorts the list by inserting each element into its correct place in a sorted list.\n",
    "\n",
    "The basic idea of insertion sort is to:\n",
    "\n",
    "    Start with the second element of the list and compare it to its predecessor.\n",
    "    If the predecessor is larger, swap the two elements.\n",
    "    Continue making comparisons and swapping elements until you reach the beginning of the list or find an element smaller than the one you are comparing.\n",
    "    Repeat these steps for each element in the list.\n",
    "\n",
    "The advantages of insertion sort are its simplicity and efficiency for small to medium-sized lists. It uses little memory and can be implemented easily. It is also stable, which means that the order of equal elements is not changed.\n",
    "\n",
    "The disadvantages of insertion sort are that it can be slow for large lists or for lists with a random distribution of values. Additionally, it cannot be efficiently parallelized, which means it cannot be sped up by using multiple processors or computing cores.\n"
   ]
  },
  {
   "cell_type": "markdown",
   "metadata": {
    "collapsed": false
   },
   "source": [
    "### Complexity:"
   ]
  },
  {
   "cell_type": "markdown",
   "metadata": {
    "collapsed": false
   },
   "source": [
    "<img src=\"img/insertion.png\" width=\"600\"/>"
   ]
  },
  {
   "cell_type": "markdown",
   "metadata": {
    "collapsed": false
   },
   "source": [
    "### Implementation:"
   ]
  },
  {
   "cell_type": "code",
   "execution_count": null,
   "metadata": {
    "ExecuteTime": {
     "end_time": "2023-05-02T18:18:29.875511600Z",
     "start_time": "2023-05-02T18:18:29.706306600Z"
    }
   },
   "outputs": [],
   "source": [
    "def insertion_sort(arr):\n",
    "    n = len(arr)\n",
    "    for i in range(1, n):\n",
    "        current = arr[i]\n",
    "        j = i - 1\n",
    "        while j >= 0 and current < arr[j]:\n",
    "            arr[j + 1] = arr[j]\n",
    "            j -= 1\n",
    "        arr[j + 1] = current\n",
    "    return arr\n",
    "\n",
    "\n",
    "plot_time(insertion_sort)"
   ]
  },
  {
   "cell_type": "markdown",
   "metadata": {},
   "source": [
    "## Selection sort:"
   ]
  },
  {
   "attachments": {},
   "cell_type": "markdown",
   "metadata": {},
   "source": [
    "Selection sort is a simple sorting algorithm that sorts a list by repeatedly finding the minimum element from the unsorted part of the list and swapping it with the first unsorted element.\n",
    "\n",
    "The basic idea of selection sort is to:\n",
    "\n",
    "    Divide the list into two parts: the sorted part and the unsorted part.\n",
    "    Find the smallest element in the unsorted part of the list.\n",
    "    Swap this element with the first element in the unsorted part of the list.\n",
    "    Move the boundary of the sorted part of the list one element to the right and repeat steps 2-4 until the entire list is sorted.\n",
    "\n",
    "The advantages of selection sort are that it is simple and easy to implement. It also has a relatively low memory requirement and is not affected by the initial ordering of the list.\n",
    "\n",
    "The disadvantages of selection sort are that it is inefficient for large lists and is generally less efficient than other sorting algorithms. It also does not adapt well to partially sorted lists and is not stable, meaning that the order of equal elements may be changed."
   ]
  },
  {
   "cell_type": "markdown",
   "metadata": {
    "collapsed": false
   },
   "source": [
    "### Complexity:"
   ]
  },
  {
   "cell_type": "markdown",
   "metadata": {
    "collapsed": false
   },
   "source": [
    "<img src=\"img/selection.png\" width=\"600\"/>"
   ]
  },
  {
   "cell_type": "markdown",
   "metadata": {
    "collapsed": false
   },
   "source": [
    "### Implementation:"
   ]
  },
  {
   "cell_type": "code",
   "execution_count": null,
   "metadata": {
    "ExecuteTime": {
     "end_time": "2023-05-02T18:18:46.210259900Z",
     "start_time": "2023-05-02T18:18:29.879512500Z"
    }
   },
   "outputs": [],
   "source": [
    "def selection_sort(arr):\n",
    "    n = len(arr)\n",
    "    for i in range(n):\n",
    "        min_index = i\n",
    "        for j in range(i + 1, n):\n",
    "            if arr[min_index] > arr[j]:\n",
    "                min_index = j\n",
    "        arr[i], arr[min_index] = arr[min_index], arr[i]\n",
    "    return arr\n",
    "\n",
    "\n",
    "plot_time(selection_sort)"
   ]
  },
  {
   "cell_type": "markdown",
   "metadata": {},
   "source": [
    "## Merge sort:"
   ]
  },
  {
   "attachments": {},
   "cell_type": "markdown",
   "metadata": {},
   "source": [
    "Merge sort is a popular sorting algorithm that works by dividing a list into smaller sub-lists, sorting those sub-lists recursively, and then merging the sorted sub-lists to create a final sorted list.\n",
    "\n",
    "The basic idea of merge sort is to:\n",
    "\n",
    "    Divide the list into two (or more) sub-lists of roughly equal size.\n",
    "    Sort each sub-list recursively by dividing it into smaller sub-lists and sorting those recursively as well.\n",
    "    Merge the sorted sub-lists back together to create a final sorted list.\n",
    "\n",
    "The advantages of merge sort are that it is highly efficient for large lists, is stable (meaning that the order of equal elements is preserved), and is well-suited to parallel processing.\n",
    "\n",
    "The disadvantages of merge sort are that it can require more memory than other sorting algorithms, particularly for large lists, and it can be more complex to implement than simpler algorithms like insertion sort or selection sort. Additionally, it is not as efficient for small lists as some other sorting algorithms."
   ]
  },
  {
   "cell_type": "markdown",
   "metadata": {
    "collapsed": false
   },
   "source": [
    "### Complexity:"
   ]
  },
  {
   "cell_type": "markdown",
   "metadata": {
    "collapsed": false
   },
   "source": [
    "<img src=\"img/merge.png\" width=\"600\"/>"
   ]
  },
  {
   "cell_type": "markdown",
   "metadata": {
    "collapsed": false
   },
   "source": [
    "### Implementation:"
   ]
  },
  {
   "cell_type": "code",
   "execution_count": null,
   "metadata": {
    "ExecuteTime": {
     "end_time": "2023-05-02T18:18:47.137252600Z",
     "start_time": "2023-05-02T18:18:46.428268700Z"
    }
   },
   "outputs": [],
   "source": [
    "def merge_sort(arr):\n",
    "    if len(arr) <= 1:\n",
    "        return arr\n",
    "    else:\n",
    "        middle = len(arr) // 2\n",
    "        left = merge_sort(arr[:middle])\n",
    "        right = merge_sort(arr[middle:])\n",
    "        arr = merge(left, right)\n",
    "        return arr\n",
    "\n",
    "\n",
    "def merge(left, right):\n",
    "    result = []\n",
    "    while len(left) > 0 and len(right) > 0:\n",
    "        if left[0] <= right[0]:\n",
    "            result.append(left[0])\n",
    "            left = left[1:]\n",
    "        else:\n",
    "            result.append(right[0])\n",
    "            right = right[1:]\n",
    "    if len(left) > 0:\n",
    "        result += left\n",
    "    if len(right) > 0:\n",
    "        result += right\n",
    "    return result\n",
    "\n",
    "\n",
    "plot_time(merge_sort)"
   ]
  },
  {
   "cell_type": "markdown",
   "metadata": {},
   "source": [
    "## Quick sort:"
   ]
  },
  {
   "attachments": {},
   "cell_type": "markdown",
   "metadata": {},
   "source": [
    "Quick sort is a popular sorting algorithm that works by selecting a pivot element from the list and partitioning the other elements into two sub-lists, according to whether they are less than or greater than the pivot. The sub-lists are then sorted recursively.\n",
    "\n",
    "The basic idea of quick sort is to:\n",
    "\n",
    "    Select a pivot element from the list.\n",
    "    Partition the other elements into two sub-lists, according to whether they are less than or greater than the pivot.\n",
    "    Recursively sort each sub-list.\n",
    "    Concatenate the sorted sub-lists to create a final sorted list.\n",
    "\n",
    "There are different ways to choose the pivot element, but the most common is to select the first, last, or middle element of the list. The choice of pivot can affect the performance of the algorithm, so it is important to choose it carefully.\n",
    "\n",
    "The advantages of quick sort are that it is highly efficient in the average case, has a relatively low memory requirement, and is well-suited to parallel processing. It is also a popular choice for sorting data stored in arrays, due to its cache-friendly nature.\n",
    "\n",
    "The disadvantages of quick sort are that it can be less efficient than other sorting algorithms for small lists and is not stable (meaning that the order of equal elements may be changed). Additionally, the worst-case time complexity of quick sort can be a concern if the pivot is not chosen carefully."
   ]
  },
  {
   "cell_type": "markdown",
   "metadata": {
    "collapsed": false
   },
   "source": [
    "### Complexity:"
   ]
  },
  {
   "cell_type": "markdown",
   "metadata": {
    "collapsed": false
   },
   "source": [
    "<img src=\"img/quick.png\"/>"
   ]
  },
  {
   "cell_type": "markdown",
   "metadata": {
    "collapsed": false
   },
   "source": [
    "### Implementation:"
   ]
  },
  {
   "cell_type": "code",
   "execution_count": null,
   "metadata": {
    "ExecuteTime": {
     "end_time": "2023-05-02T18:18:47.579688400Z",
     "start_time": "2023-05-02T18:18:47.280467300Z"
    }
   },
   "outputs": [],
   "source": [
    "def quick_sort(arr):\n",
    "    if len(arr) <= 1:\n",
    "        return arr\n",
    "    # We use the 'random' library for the pivot\n",
    "    # to statistically reduce the worst case sorting situations\n",
    "    pivot = random.choice(arr)\n",
    "    lower = []\n",
    "    equal = []\n",
    "    greater = []\n",
    "    for item in arr:\n",
    "        if item < pivot:\n",
    "            lower.append(item)\n",
    "        elif item > pivot:\n",
    "            greater.append(item)\n",
    "        else:\n",
    "            equal.append(item)\n",
    "    return quick_sort(lower) + equal + quick_sort(greater)\n",
    "\n",
    "\n",
    "plot_time(quick_sort)"
   ]
  },
  {
   "cell_type": "markdown",
   "metadata": {},
   "source": [
    "## Sorting algorithms comparison:"
   ]
  },
  {
   "cell_type": "code",
   "execution_count": null,
   "metadata": {
    "ExecuteTime": {
     "end_time": "2023-05-02T18:18:47.766848700Z",
     "start_time": "2023-05-02T18:18:47.581690600Z"
    }
   },
   "outputs": [],
   "source": [
    "for algorithm in algo_dict:\n",
    "    plt.plot(x_size, algo_dict[algorithm]['y_time'], algo_dict[algorithm]['color'], label=algorithm)\n",
    "plt.title('Sorting algorithms comparison')\n",
    "plt.xlabel('Size of the array')\n",
    "plt.ylabel('Time of execution (seconds)')\n",
    "plt.legend()\n",
    "plt.show()"
   ]
  },
  {
   "attachments": {},
   "cell_type": "markdown",
   "metadata": {},
   "source": [
    "With this graph, we clearly see that bubble sort and selection sort are quadratic while merge sort, quick sort and insertion sort are quasilinear. That's coherent with what we said before, except for insertion sort. \n",
    "\n",
    "Indeed, insertion sort is supposed to be quadratic but here it's quasilinear. This can be explained by the fact that insertion sort is efficient for small lists."
   ]
  },
  {
   "attachments": {},
   "cell_type": "markdown",
   "metadata": {},
   "source": [
    "## Conclusion:\n",
    "\n",
    "As we see, time complexity is an important problem for sorting algorithms and it's important to think about it before implementing a sorting algorithm. \n",
    "\n",
    "Furthermore, we should also considere the memory space that the algorithm needs to sort the data. For example, merge sort needs more memory space than quick sort. And we should also considere the stability of the algorithm.\n",
    "\n",
    "In conclusion, every sorting algorithm has its own advantages (except maybe bogosort) and disadvantages. So before implementing a sorting algorithm, it's important to know what kind of data we have to sort and what are the constraints of the problem. "
   ]
  }
 ],
 "metadata": {
  "kernelspec": {
   "display_name": "Python 3 (ipykernel)",
   "language": "python",
   "name": "python3"
  },
  "language_info": {
   "codemirror_mode": {
    "name": "ipython",
    "version": 3
   },
   "file_extension": ".py",
   "mimetype": "text/x-python",
   "name": "python",
   "nbconvert_exporter": "python",
   "pygments_lexer": "ipython3",
   "version": "3.11.2"
  }
 },
 "nbformat": 4,
 "nbformat_minor": 2
}
